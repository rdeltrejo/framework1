{
 "cells": [
  {
   "cell_type": "markdown",
   "metadata": {},
   "source": [
    "# Framework de software I\n",
    "\n",
    "Nome: Ricardo Del Trejo R.A.: 5771601055"
   ]
  },
  {
   "cell_type": "markdown",
   "metadata": {},
   "source": [
    "## Título do Dataset: Glass Identification Database"
   ]
  },
  {
   "cell_type": "markdown",
   "metadata": {},
   "source": [
    "Link para descrição do Dataset: <a href=\"https://archive.ics.uci.edu/ml/machine-learning-databases/glass/glass.names\">UCI Machine Learning Repository</a>"
   ]
  },
  {
   "cell_type": "markdown",
   "metadata": {},
   "source": [
    "## Descrição do problema\n",
    "\n",
    "<p>Foi necessário a classificação dos vidros em \"float\" ou não, esta classificação tornou-se necessária devido a uma investigação criminal onde a correta identificação torna um vidro como evidência do caso ou não.</p>\n",
    "<p>O processo float surgiu nos anos de 1950 e trata-se de fazer com que o vidro ainda não derretido flutue por estanho derretido, este tipo de vidro é indicado para vidros planos, fazendo com que tenham excelente uniformidade e não possuem quase nenhuma distorção óptica.</p>"
   ]
  },
  {
   "cell_type": "markdown",
   "metadata": {},
   "source": [
    "<img src=\"dif.jpg\"/>\n",
    "<div style=\"text-align: center\"><i>Diferenças entre vidro sem o processo float(acima) com aquele que passou pelo processo(abaixo)</i></div>"
   ]
  },
  {
   "cell_type": "markdown",
   "metadata": {},
   "source": [
    "## Exploração dos dados\n",
    "<ol>\n",
    "<li>Id number: Número de identificação do vidro, vai de 1 a 214. Será desconsiderado do modelo pois não influencia no resultado por ser apenas um identificar</li>\n",
    "<li>RI: índice de refração</li>\n",
    "<li>Na: Sódio (unidade de medida é a porcentagem em peso no óxido correspondente, assim como os atributos 4-10)</li>\n",
    "<li>Mg: Magnésio</li>\n",
    "<li>Al: Alumínio</li>\n",
    "<li>Si: Silício</li>\n",
    "<li>K: Potássio</li>\n",
    "<li>Ca: Cálcio</li>\n",
    "<li>Ba: Bário</li>\n",
    "<li>Fe: Ferro</li>\n",
    "<li>Type of glass: Atributo do vidro, vai de 1 a 7 sendo:\n",
    "<ul>\n",
    "<li>1. building_windows_float_processed</li>\n",
    "<li>2. building_windows_non_float_processed</li>\n",
    "<li>3. vehicle_windows_float_processed</li>\n",
    "<li>4. vehicle_windows_non_float_processed (inexistente nesta base)</li>\n",
    "<li>5. containers</li>\n",
    "<li>6. tableware</li>\n",
    "<li>7. headlamps</li>\n",
    "</ul></li>\n",
    "</ol>"
   ]
  },
  {
   "cell_type": "markdown",
   "metadata": {
    "collapsed": true
   },
   "source": [
    "# Gráficos"
   ]
  },
  {
   "cell_type": "code",
   "execution_count": 4,
   "metadata": {
    "collapsed": true
   },
   "outputs": [],
   "source": [
    "import pandas as pd"
   ]
  },
  {
   "cell_type": "code",
   "execution_count": 5,
   "metadata": {
    "collapsed": true
   },
   "outputs": [],
   "source": [
    "lista_colunas = [\"Id\",\"RI\",\"Na\",\"Mg\",\"Al\",\"Si\",\"K\",\"Ca\",\"Ba\", \"Fe\", \"Type\"]\n",
    "df = pd.read_csv(\"https://archive.ics.uci.edu/ml/machine-learning-databases/glass/glass.data\", names = lista_colunas)\n",
    "X = df.drop(\"Type\", axis = 1)\n",
    "y = df[\"Type\"]"
   ]
  },
  {
   "cell_type": "code",
   "execution_count": 6,
   "metadata": {
    "collapsed": true
   },
   "outputs": [],
   "source": [
    "import matplotlib.pyplot as plt\n",
    "%matplotlib inline"
   ]
  },
  {
   "cell_type": "code",
   "execution_count": 7,
   "metadata": {},
   "outputs": [
    {
     "data": {
      "text/plain": [
       "<function matplotlib.pyplot.show>"
      ]
     },
     "execution_count": 7,
     "metadata": {},
     "output_type": "execute_result"
    },
    {
     "data": {
      "image/png": "[encoded data removed]",
      "text/plain": [
       "<matplotlib.figure.Figure at 0x2c6d12530b8>"
      ]
     },
     "metadata": {},
     "output_type": "display_data"
    }
   ],
   "source": [
    "plt.scatter(df.Id, y)\n",
    "plt.xlabel(\"Id\")\n",
    "plt.ylabel(\"Type\")\n",
    "plt.title(\"Relação entre Id X Type\")\n",
    "plt.show"
   ]
  },
  {
   "cell_type": "code",
   "execution_count": 8,
   "metadata": {},
   "outputs": [
    {
     "data": {
      "text/plain": [
       "<matplotlib.axes._subplots.AxesSubplot at 0x2c6d24572b0>"
      ]
     },
     "execution_count": 8,
     "metadata": {},
     "output_type": "execute_result"
    },
    {
     "data": {
      "image/png": "[encoded data removed]",
      "text/plain": [
       "<matplotlib.figure.Figure at 0x2c6d132d278>"
      ]
     },
     "metadata": {},
     "output_type": "display_data"
    }
   ],
   "source": [
    "fig = plt.figure(figsize=(10,10)) \n",
    "fig_dims = (3, 2)\n",
    "plt.subplot2grid(fig_dims, (0, 0))\n",
    "df['Type'].value_counts().plot(kind='bar', title='Contador de tipos de vidros do Dataset')"
   ]
  },
  {
   "cell_type": "markdown",
   "metadata": {
    "collapsed": true
   },
   "source": [
    "# Aplicação de Machine Learn"
   ]
  },
  {
   "cell_type": "code",
   "execution_count": 15,
   "metadata": {
    "collapsed": true
   },
   "outputs": [],
   "source": [
    "from sklearn import metrics"
   ]
  },
  {
   "cell_type": "markdown",
   "metadata": {},
   "source": [
    "## Usando o SVM"
   ]
  },
  {
   "cell_type": "code",
   "execution_count": 16,
   "metadata": {
    "collapsed": true
   },
   "outputs": [],
   "source": [
    "from sklearn.svm import SVC"
   ]
  },
  {
   "cell_type": "code",
   "execution_count": 17,
   "metadata": {
    "collapsed": true
   },
   "outputs": [],
   "source": [
    "svm = SVC()"
   ]
  },
  {
   "cell_type": "code",
   "execution_count": 18,
   "metadata": {},
   "outputs": [
    {
     "data": {
      "text/plain": [
       "SVC(C=1.0, cache_size=200, class_weight=None, coef0=0.0,\n",
       "  decision_function_shape=None, degree=3, gamma='auto', kernel='rbf',\n",
       "  max_iter=-1, probability=False, random_state=None, shrinking=True,\n",
       "  tol=0.001, verbose=False)"
      ]
     },
     "execution_count": 18,
     "metadata": {},
     "output_type": "execute_result"
    }
   ],
   "source": [
    "svm.fit(X, y)"
   ]
  },
  {
   "cell_type": "code",
   "execution_count": 36,
   "metadata": {},
   "outputs": [],
   "source": [
    "y_svm = svm.predict(X)\n",
    "acuSvm = metrics.accuracy_score(y,y_svm)\n",
    "kaSvm = metrics.cohen_kappa_score(y,y_svm)"
   ]
  },
  {
   "cell_type": "markdown",
   "metadata": {},
   "source": [
    "## Usando KNN com k variando de 1 a 29"
   ]
  },
  {
   "cell_type": "code",
   "execution_count": 37,
   "metadata": {
    "collapsed": true
   },
   "outputs": [],
   "source": [
    "from sklearn.neighbors import KNeighborsClassifier"
   ]
  },
  {
   "cell_type": "code",
   "execution_count": 38,
   "metadata": {
    "collapsed": true
   },
   "outputs": [],
   "source": [
    "k_range = list(range(1,30))"
   ]
  },
  {
   "cell_type": "code",
   "execution_count": 41,
   "metadata": {},
   "outputs": [],
   "source": [
    "list_acuracia = []\n",
    "list_kappa = []\n",
    "for k in k_range:\n",
    "    knn = KNeighborsClassifier(n_neighbors = k)\n",
    "    knn.fit(X,y)\n",
    "    y_pred = knn.predict(X)\n",
    "    acu = metrics.accuracy_score(y,y_pred)\n",
    "    list_acuracia.append(acu)\n",
    "    ka = metrics.cohen_kappa_score(y,y_pred)\n",
    "    list_kappa.append(ka)"
   ]
  },
  {
   "cell_type": "code",
   "execution_count": 46,
   "metadata": {},
   "outputs": [
    {
     "data": {
      "text/plain": [
       "1.0"
      ]
     },
     "execution_count": 46,
     "metadata": {},
     "output_type": "execute_result"
    }
   ],
   "source": [
    "#acurária svm\n",
    "acuSvm"
   ]
  },
  {
   "cell_type": "code",
   "execution_count": 48,
   "metadata": {},
   "outputs": [
    {
     "data": {
      "text/plain": [
       "1.0"
      ]
     },
     "execution_count": 48,
     "metadata": {},
     "output_type": "execute_result"
    }
   ],
   "source": [
    "#Cohen’s kappa svm\n",
    "kaSvm"
   ]
  },
  {
   "cell_type": "code",
   "execution_count": 49,
   "metadata": {},
   "outputs": [
    {
     "data": {
      "text/plain": [
       "[1.0,\n",
       " 0.99532710280373837,\n",
       " 0.99532710280373837,\n",
       " 0.99532710280373837,\n",
       " 0.99532710280373837,\n",
       " 0.99065420560747663,\n",
       " 0.99065420560747663,\n",
       " 0.99532710280373837,\n",
       " 0.99532710280373837,\n",
       " 0.99065420560747663,\n",
       " 0.99065420560747663,\n",
       " 0.99065420560747663,\n",
       " 0.99065420560747663,\n",
       " 0.99065420560747663,\n",
       " 0.99065420560747663,\n",
       " 0.98598130841121501,\n",
       " 0.99065420560747663,\n",
       " 0.98130841121495327,\n",
       " 0.99065420560747663,\n",
       " 0.98130841121495327,\n",
       " 0.98598130841121501,\n",
       " 0.96728971962616828,\n",
       " 0.9719626168224299,\n",
       " 0.96261682242990654,\n",
       " 0.96261682242990654,\n",
       " 0.95794392523364491,\n",
       " 0.95327102803738317,\n",
       " 0.94859813084112155,\n",
       " 0.94392523364485981]"
      ]
     },
     "execution_count": 49,
     "metadata": {},
     "output_type": "execute_result"
    }
   ],
   "source": [
    "#acurária knn\n",
    "list_acuracia"
   ]
  },
  {
   "cell_type": "code",
   "execution_count": 50,
   "metadata": {},
   "outputs": [
    {
     "data": {
      "text/plain": [
       "[1.0,\n",
       " 0.99365662793455067,\n",
       " 0.99365662793455067,\n",
       " 0.99365662793455067,\n",
       " 0.99365662793455067,\n",
       " 0.98729102948599934,\n",
       " 0.98731475992886786,\n",
       " 0.99365662793455067,\n",
       " 0.99365662793455067,\n",
       " 0.98729102948599934,\n",
       " 0.98731475992886786,\n",
       " 0.98732077260338902,\n",
       " 0.98731475992886786,\n",
       " 0.98732077260338902,\n",
       " 0.98731475992886786,\n",
       " 0.98096537001897532,\n",
       " 0.98731175145262662,\n",
       " 0.97464304757390841,\n",
       " 0.98730573021710766,\n",
       " 0.97461296636811201,\n",
       " 0.98095633602278121,\n",
       " 0.9554630593132154,\n",
       " 0.96186289651894974,\n",
       " 0.94905520011902988,\n",
       " 0.94913844325609031,\n",
       " 0.94274673008323429,\n",
       " 0.93637769056962772,\n",
       " 0.92985906260242546,\n",
       " 0.9237778635243834]"
      ]
     },
     "execution_count": 50,
     "metadata": {},
     "output_type": "execute_result"
    }
   ],
   "source": [
    "#Cohen’s kappa knn\n",
    "list_kappa"
   ]
  },
  {
   "cell_type": "code",
   "execution_count": null,
   "metadata": {
    "collapsed": true
   },
   "outputs": [],
   "source": []
  }
 ],
 "metadata": {
  "kernelspec": {
   "display_name": "Python 3",
   "language": "python",
   "name": "python3"
  },
  "language_info": {
   "codemirror_mode": {
    "name": "ipython",
    "version": 3
   },
   "file_extension": ".py",
   "mimetype": "text/x-python",
   "name": "python",
   "nbconvert_exporter": "python",
   "pygments_lexer": "ipython3",
   "version": "3.6.1"
  }
 },
 "nbformat": 4,
 "nbformat_minor": 2
}
